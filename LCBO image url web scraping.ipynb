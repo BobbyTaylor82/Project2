{
 "cells": [
  {
   "cell_type": "code",
   "execution_count": 46,
   "metadata": {},
   "outputs": [],
   "source": [
    "import requests\n",
    "import urllib.request\n",
    "from bs4 import BeautifulSoup"
   ]
  },
  {
   "cell_type": "code",
   "execution_count": 47,
   "metadata": {
    "collapsed": true
   },
   "outputs": [],
   "source": [
    "url = \"http://www.lcbo.com/content/lcbo/en/pages/beer/486-craft-beers-on-the-wall.html#.WpLrZBPwb6D\""
   ]
  },
  {
   "cell_type": "code",
   "execution_count": 48,
   "metadata": {
    "collapsed": true
   },
   "outputs": [],
   "source": [
    "r= requests.get(url)\n",
    "html_content = r.text"
   ]
  },
  {
   "cell_type": "code",
   "execution_count": 49,
   "metadata": {
    "collapsed": true
   },
   "outputs": [],
   "source": [
    "soup = BeautifulSoup(html_content, \"html.parser\")"
   ]
  },
  {
   "cell_type": "code",
   "execution_count": 51,
   "metadata": {},
   "outputs": [],
   "source": [
    "links= soup.find_all(\"img\")"
   ]
  },
  {
   "cell_type": "code",
   "execution_count": 52,
   "metadata": {},
   "outputs": [
    {
     "name": "stdout",
     "output_type": "stream",
     "text": [
      "[<img alt=\"\" class=\"cq-dd-image\" src=\"/content/lcbo/en/pages/beer/486-craft-beers-on-the-wall/_jcr_content/hero-content/enhanced_product_her.img.jpg/1515771376964.jpg\" title=\"\"/>, <img alt=\"Goose Island Honkers Ale                                                                                                        \" src=\"/content/dam/lcbo/products/449249.jpg/jcr:content/renditions/cq5dam.thumbnail.319.319.png\">\n",
      "</img>, <img alt=\"Cowbell Kelly's Contraption                                                                                                     \" src=\"/content/dam/lcbo/products/526814.jpg/jcr:content/renditions/cq5dam.thumbnail.319.319.png\"/>, <img alt=\"St Ambroise Oatmeal Stout                                                                                                       \" src=\"/content/dam/lcbo/products/398677.jpg/jcr:content/renditions/cq5dam.thumbnail.319.319.png\"/>, <img alt=\"Bench Brewing Ball's Falls Session IPA                                                                                          \" src=\"/content/dam/lcbo/products/481515.jpg/jcr:content/renditions/cq5dam.thumbnail.319.319.png\"/>, <img alt=\"Bench Brewing Twenty Mile Farmhouse Ale                                                                                         \" src=\"/content/dam/lcbo/products/508515.jpg/jcr:content/renditions/cq5dam.thumbnail.319.319.png\"/>, <img alt=\"Cameron's 12 Mile Lager                                                                                                         \" src=\"/content/dam/lcbo/products/535229.jpg/jcr:content/renditions/cq5dam.thumbnail.319.319.png\"/>, <img alt=\"Big Rig Midnight Kissed My Cow                                                                                                  \" src=\"/content/dam/lcbo/products/474072.jpg/jcr:content/renditions/cq5dam.thumbnail.319.319.png\"/>, <img alt=\"St Bernardus Abt 12                                                                                                             \" src=\"/content/dam/lcbo/products/346197.jpg/jcr:content/renditions/cq5dam.thumbnail.319.319.png\"/>, <img alt=\"Monty's Aged Ryed Ale                                                                                                           \" src=\"/content/dam/lcbo/products/498691.jpg/jcr:content/renditions/cq5dam.thumbnail.319.319.png\"/>, <img alt=\"Facetook\" src=\"/content/dam/lcbo/social-icons/icon-facebook.png\"/>, <img alt=\"Twitter\" src=\"/content/dam/lcbo/social-icons/icon-twitter.png\"/>]\n"
     ]
    }
   ],
   "source": [
    "print(links)"
   ]
  },
  {
   "cell_type": "code",
   "execution_count": 60,
   "metadata": {},
   "outputs": [
    {
     "name": "stdout",
     "output_type": "stream",
     "text": [
      " http://www.lcbo.com/content/lcbo/en/pages/beer/486-craft-beers-on-the-wall/_jcr_content/hero-content/enhanced_product_her.img.jpg/1515771376964.jpg\n",
      "Goose Island Honkers Ale                                                                                                         http://www.lcbo.com/content/dam/lcbo/products/449249.jpg/jcr:content/renditions/cq5dam.thumbnail.319.319.png\n",
      "Cowbell Kelly's Contraption                                                                                                      http://www.lcbo.com/content/dam/lcbo/products/526814.jpg/jcr:content/renditions/cq5dam.thumbnail.319.319.png\n",
      "St Ambroise Oatmeal Stout                                                                                                        http://www.lcbo.com/content/dam/lcbo/products/398677.jpg/jcr:content/renditions/cq5dam.thumbnail.319.319.png\n",
      "Bench Brewing Ball's Falls Session IPA                                                                                           http://www.lcbo.com/content/dam/lcbo/products/481515.jpg/jcr:content/renditions/cq5dam.thumbnail.319.319.png\n",
      "Bench Brewing Twenty Mile Farmhouse Ale                                                                                          http://www.lcbo.com/content/dam/lcbo/products/508515.jpg/jcr:content/renditions/cq5dam.thumbnail.319.319.png\n",
      "Cameron's 12 Mile Lager                                                                                                          http://www.lcbo.com/content/dam/lcbo/products/535229.jpg/jcr:content/renditions/cq5dam.thumbnail.319.319.png\n",
      "Big Rig Midnight Kissed My Cow                                                                                                   http://www.lcbo.com/content/dam/lcbo/products/474072.jpg/jcr:content/renditions/cq5dam.thumbnail.319.319.png\n",
      "St Bernardus Abt 12                                                                                                              http://www.lcbo.com/content/dam/lcbo/products/346197.jpg/jcr:content/renditions/cq5dam.thumbnail.319.319.png\n",
      "Monty's Aged Ryed Ale                                                                                                            http://www.lcbo.com/content/dam/lcbo/products/498691.jpg/jcr:content/renditions/cq5dam.thumbnail.319.319.png\n",
      "Facetook http://www.lcbo.com/content/dam/lcbo/social-icons/icon-facebook.png\n",
      "Twitter http://www.lcbo.com/content/dam/lcbo/social-icons/icon-twitter.png\n"
     ]
    }
   ],
   "source": [
    "for link in links:\n",
    "    print(link[\"alt\"], \"http://www.lcbo.com\"+link[\"src\"])"
   ]
  },
  {
   "cell_type": "code",
   "execution_count": null,
   "metadata": {
    "collapsed": true
   },
   "outputs": [],
   "source": []
  }
 ],
 "metadata": {
  "kernelspec": {
   "display_name": "Python 3",
   "language": "python",
   "name": "python3"
  },
  "language_info": {
   "codemirror_mode": {
    "name": "ipython",
    "version": 3
   },
   "file_extension": ".py",
   "mimetype": "text/x-python",
   "name": "python",
   "nbconvert_exporter": "python",
   "pygments_lexer": "ipython3",
   "version": "3.6.3"
  }
 },
 "nbformat": 4,
 "nbformat_minor": 2
}
